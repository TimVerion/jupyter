{
 "cells": [
  {
   "cell_type": "code",
   "execution_count": 85,
   "metadata": {},
   "outputs": [
    {
     "name": "stdout",
     "output_type": "stream",
     "text": [
      "{'1号船舱均价': 84.15468749999992, '2号船舱均价': 20.66218315217391, '3号船舱均价': 13.675550101832997}\n"
     ]
    }
   ],
   "source": [
    "import pandas\n",
    "import numpy as np\n",
    "pcsv = pandas.read_csv(\"titanic_train.csv\")\n",
    "pcsv\n",
    "# 得出不同船舱的平均价格\n",
    "ptype = [1,2,3]\n",
    "d1 = {}\n",
    "for i in ptype:\n",
    "    prow = pcsv[pcsv[\"Pclass\"] == i]\n",
    "    avg_price = prow[\"Fare\"].mean()\n",
    "    d1[str(i)+'号船舱均价']=avg_price\n",
    "print(d1)"
   ]
  },
  {
   "cell_type": "code",
   "execution_count": 86,
   "metadata": {},
   "outputs": [
    {
     "name": "stdout",
     "output_type": "stream",
     "text": [
      "{'1号船舱存活率': 0.6296296296296297, '2号船舱存活率': 0.47282608695652173, '3号船舱存活率': 0.24236252545824846}\n"
     ]
    }
   ],
   "source": [
    "# 各个船舱的存活率\n",
    "# pcsv.head()\n",
    "ptype = [1,2,3]\n",
    "d1 = {}\n",
    "for i in ptype:\n",
    "    prow = pcsv[pcsv[\"Pclass\"] == i]\n",
    "    su_person = len(prow[prow[\"Survived\"]==1])/len(prow)\n",
    "    d1[str(i)+\"号船舱存活率\"] = su_person\n",
    "print(d1)"
   ]
  },
  {
   "cell_type": "code",
   "execution_count": 89,
   "metadata": {},
   "outputs": [
    {
     "data": {
      "text/html": [
       "<div>\n",
       "<style>\n",
       "    .dataframe thead tr:only-child th {\n",
       "        text-align: right;\n",
       "    }\n",
       "\n",
       "    .dataframe thead th {\n",
       "        text-align: left;\n",
       "    }\n",
       "\n",
       "    .dataframe tbody tr th {\n",
       "        vertical-align: top;\n",
       "    }\n",
       "</style>\n",
       "<table border=\"1\" class=\"dataframe\">\n",
       "  <thead>\n",
       "    <tr style=\"text-align: right;\">\n",
       "      <th></th>\n",
       "      <th>Survived</th>\n",
       "    </tr>\n",
       "    <tr>\n",
       "      <th>Pclass</th>\n",
       "      <th></th>\n",
       "    </tr>\n",
       "  </thead>\n",
       "  <tbody>\n",
       "    <tr>\n",
       "      <th>1</th>\n",
       "      <td>0.629630</td>\n",
       "    </tr>\n",
       "    <tr>\n",
       "      <th>2</th>\n",
       "      <td>0.472826</td>\n",
       "    </tr>\n",
       "    <tr>\n",
       "      <th>3</th>\n",
       "      <td>0.242363</td>\n",
       "    </tr>\n",
       "  </tbody>\n",
       "</table>\n",
       "</div>"
      ],
      "text/plain": [
       "        Survived\n",
       "Pclass          \n",
       "1       0.629630\n",
       "2       0.472826\n",
       "3       0.242363"
      ]
     },
     "execution_count": 89,
     "metadata": {},
     "output_type": "execute_result"
    }
   ],
   "source": [
    "# 简单的求船舱均价\n",
    "pcsv.pivot_table(index=\"Pclass\", values=\"Fare\", aggfunc=np.mean)\n",
    "# 简单的求船舱存活率\n",
    "pcsv.pivot_table(index=\"Pclass\", values=\"Survived\", aggfunc=np.mean)"
   ]
  }
 ],
 "metadata": {
  "kernelspec": {
   "display_name": "Python 3",
   "language": "python",
   "name": "python3"
  },
  "language_info": {
   "codemirror_mode": {
    "name": "ipython",
    "version": 3
   },
   "file_extension": ".py",
   "mimetype": "text/x-python",
   "name": "python",
   "nbconvert_exporter": "python",
   "pygments_lexer": "ipython3",
   "version": "3.6.3"
  }
 },
 "nbformat": 4,
 "nbformat_minor": 2
}
