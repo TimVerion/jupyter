{
 "cells": [
  {
   "cell_type": "code",
   "execution_count": 2,
   "metadata": {
    "collapsed": true
   },
   "outputs": [],
   "source": [
    "import numpy as np\n",
    "import matplotlib as mpl\n",
    "import matplotlib.pyplot as plt\n",
    "import pandas as pd\n",
    "import warnings\n",
    "import sklearn\n",
    "from sklearn.linear_model import LinearRegression, LassoCV, RidgeCV, ElasticNetCV\n",
    "from sklearn.preprocessing import PolynomialFeatures#数据预处理，标准化\n",
    "from sklearn.pipeline import Pipeline\n",
    "from sklearn.linear_model.coordinate_descent import ConvergenceWarning"
   ]
  },
  {
   "cell_type": "code",
   "execution_count": 4,
   "metadata": {
    "collapsed": true
   },
   "outputs": [],
   "source": [
    "## 设置字符集，防止中文乱码\n",
    "mpl.rcParams['font.sans-serif']=[u'simHei']\n",
    "mpl.rcParams['axes.unicode_minus']=False\n",
    "## 拦截异常\n",
    "warnings.filterwarnings(action = 'ignore', category=ConvergenceWarning)"
   ]
  },
  {
   "cell_type": "code",
   "execution_count": 6,
   "metadata": {
    "collapsed": true
   },
   "outputs": [],
   "source": [
    "## 创建模拟数据\n",
    "np.random.seed(100)\n",
    "np.set_printoptions(linewidth=1000, suppress=True)\n",
    "#显示方式设置，每行的字符数用于插入换行符，是否使用科学计数法\n",
    "N = 10\n",
    "x = np.linspace(0, 6, N) + np.random.randn(N)\n",
    "y = 1.8*x**3 + x**2 - 14*x - 7 + np.random.randn(N)\n",
    "x.shape=-1,1\n",
    "y.shape=-1,1"
   ]
  },
  {
   "cell_type": "code",
   "execution_count": 7,
   "metadata": {
    "collapsed": true
   },
   "outputs": [],
   "source": [
    "# RidgeCV可以进行交叉验证\n",
    "models = [\n",
    "       Pipeline([\n",
    "            ('Poly', PolynomialFeatures(include_bias=False)),\n",
    "            ('Linear', LinearRegression(fit_intercept=False))\n",
    "        ]),\n",
    "    Pipeline([\n",
    "            ('Poly', PolynomialFeatures(include_bias=False)),\n",
    "            # alpha给定的是Ridge算法中，L2正则项的权重值，也就是ppt中的兰姆达\n",
    "            # alphas是给定CV交叉验证过程中，Ridge算法的alpha参数值的取值的范围\n",
    "            ('Linear', RidgeCV(alphas=np.logspace(-3,2,50), fit_intercept=False))\n",
    "        ]),\n",
    "    Pipeline([\n",
    "            ('Poly', PolynomialFeatures(include_bias=False)),\n",
    "            ('Linear', LassoCV(alphas=np.logspace(0,1,10), fit_intercept=False))\n",
    "        ]),\n",
    "    Pipeline([\n",
    "            ('Poly', PolynomialFeatures(include_bias=False)),\n",
    "            # la_ratio：给定EN算法中L1正则项在整个惩罚项中的比例，这里给定的是一个列表；\n",
    "            # 表示的是在CV交叉验证的过程中，EN算法L1正则项的权重比例的可选值的范围\n",
    "            ('Linear', ElasticNetCV(alphas=np.logspace(0,1,10), l1_ratio=[.1, .5, .7, .9, .95, 1], fit_intercept=False))\n",
    "        ])\n",
    "]"
   ]
  },
  {
   "cell_type": "code",
   "execution_count": 10,
   "metadata": {},
   "outputs": [
    {
     "ename": "SyntaxError",
     "evalue": "invalid syntax (<ipython-input-10-b2ecfd291ee7>, line 9)",
     "output_type": "error",
     "traceback": [
      "\u001b[1;36m  File \u001b[1;32m\"<ipython-input-10-b2ecfd291ee7>\"\u001b[1;36m, line \u001b[1;32m9\u001b[0m\n\u001b[1;33m    for i,d enumerate(degree):\u001b[0m\n\u001b[1;37m                    ^\u001b[0m\n\u001b[1;31mSyntaxError\u001b[0m\u001b[1;31m:\u001b[0m invalid syntax\n"
     ]
    }
   ],
   "source": [
    "plt.figure(facecolor='w')\n",
    "degree = np.arange(1,N,4)\n",
    "dm = degree.size\n",
    "colors = []\n",
    "for c in np.linspace(16711680,255,dm):\n",
    "    colors.append(\"#%06x\"%int(c))\n",
    "    \n",
    "model = models[0]\n",
    "for i,d enumerate(degree):\n",
    "    #这下面的一段逻辑是为了\n",
    "    plt.subplot(int(np.ceil(dm/2.0)),2,i+1)\n",
    "    plt.plot(x,y,'ro',ms=10,zorder=N)\n",
    "    #设置训练模型的阶数\n",
    "    model.set_params(Poly_degree=d)\n",
    "    model.fit(x,y.ravel())\n",
    "    lin = model.get_params('Linear')['Linear']\n",
    "    output = '%d阶数为'%(d)\n",
    "    # 判断lin对象中是否有对应的属性\n",
    "    if hasattr(lin, 'alpha_'):\n",
    "        idx = output.find(u'系数')\n",
    "        output = output[:idx] + (u'alpha=%.6f, ' % lin.alpha_) + output[idx:]\n",
    "    if hasattr(lin, 'l1_ratio_'):\n",
    "        idx = output.find(u'系数')\n",
    "        output = output[:idx] + (u'l1_ratio=%.6f, ' % lin.l1_ratio_) + output[idx:]\n",
    "    print (output, lin.coef_.ravel())\n",
    "    x_hat = np.linespace(x.min(),x.max(),num=100)\n",
    "    x_hat.shape=-1,1\n",
    "    y_hat = model.predict(x_hat)\n",
    "    s = model.score(x,y)\n",
    "    \n",
    "    z = N-1 if (d==2) else 0\n",
    "    label = '%d阶,正确率= %.3f'%(d,s)\n",
    "    plt.plot(x_hat,y_hat,color = color[i],lw=2,alpha =0.75,label = label,zorder =z)\n",
    "    plt.legend(loc = 'upper left')\n",
    "    plt.grid(True)\n",
    "    plt.xlabel('X', fontsize=16)\n",
    "    plt.ylabel('Y', fontsize=16)\n",
    "plt.tight_layout(1, rect=(0,0,1,0.95))\n",
    "plt.suptitle(u'线性回归过拟合显示', fontsize=22)\n",
    "plt.show()"
   ]
  }
 ],
 "metadata": {
  "kernelspec": {
   "display_name": "Python 3",
   "language": "python",
   "name": "python3"
  },
  "language_info": {
   "codemirror_mode": {
    "name": "ipython",
    "version": 3
   },
   "file_extension": ".py",
   "mimetype": "text/x-python",
   "name": "python",
   "nbconvert_exporter": "python",
   "pygments_lexer": "ipython3",
   "version": "3.6.3"
  }
 },
 "nbformat": 4,
 "nbformat_minor": 2
}
